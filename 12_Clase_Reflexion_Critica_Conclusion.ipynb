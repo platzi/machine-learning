{
 "cells": [
  {
   "cell_type": "markdown",
   "metadata": {},
   "source": [
    "# 🧠 Clase Especial – Reflexión Crítica y Cambio de Modelo\n",
    "\n",
    "En esta clase analizaremos por qué el modelo de Regresión Lineal no tuvo el desempeño esperado y cómo podemos usar esta información para replantear nuestro enfoque.\n",
    "\n",
    "Veremos:\n",
    "\n",
    "- ¿Qué falló en el modelo actual?\n",
    "- ¿Qué dicen las métricas?\n",
    "- ¿Qué alternativas tenemos?\n",
    "- Introducción al Árbol de Decisión como nuevo modelo base\n"
   ]
  },
  {
   "cell_type": "code",
   "execution_count": null,
   "metadata": {},
   "outputs": [],
   "source": [
    "import pandas as pd\n",
    "import matplotlib.pyplot as plt\n",
    "\n",
    "# Métricas obtenidas del modelo de regresión lineal\n",
    "metricas_rl = {\n",
    "    'Modelo': 'Regresión Lineal',\n",
    "    'RMSE': 2.23,\n",
    "    'MAE': 1.89,\n",
    "    'R²': -0.03\n",
    "}\n",
    "\n",
    "# Métricas del Árbol de Decisión (bonus)\n",
    "metricas_arbol = {\n",
    "    'Modelo': 'Árbol de Decisión',\n",
    "    'RMSE': 0.93,\n",
    "    'MAE': 0.70,\n",
    "    'R²': 0.82\n",
    "}\n",
    "\n",
    "# Comparación\n",
    "df_comparacion = pd.DataFrame([metricas_rl, metricas_arbol])\n",
    "display(df_comparacion)\n"
   ]
  },
  {
   "cell_type": "markdown",
   "metadata": {},
   "source": [
    "### 🤔 ¿Qué observamos?\n",
    "\n",
    "- El modelo de Regresión Lineal tiene un **R² negativo**, lo que indica que es peor que simplemente predecir el promedio.\n",
    "- El Árbol de Decisión mejora todas las métricas:\n",
    "  - Menor error (RMSE y MAE)\n",
    "  - Mayor capacidad de explicar la variabilidad (R² positivo)\n",
    "\n",
    "Esto sugiere que la relación entre variables no es lineal, y por eso el modelo lineal no capta bien el patrón.\n",
    "\n",
    "---\n",
    "\n",
    "## 🛠️ ¿Qué aprendimos hasta ahora?\n",
    "\n",
    "1. Cómo preparar datos y construir modelos básicos.\n",
    "2. Qué métricas evaluar.\n",
    "3. Que no todos los algoritmos sirven para todos los problemas.\n",
    "\n",
    "---\n",
    "\n",
    "## 🧭 ¿Y ahora qué?\n",
    "\n",
    "Podemos rediseñar nuestra estrategia a partir del Árbol de Decisión:\n",
    "\n",
    "- Redefinir el pipeline\n",
    "- Mejorar visualizaciones\n",
    "- Explorar nuevos modelos más robustos\n",
    "\n",
    "Esto marca un **nuevo comienzo** más realista y alineado con el comportamiento de los datos.\n",
    "\n"
   ]
  }
 ],
 "metadata": {
  "kernelspec": {
   "display_name": "venv",
   "language": "python",
   "name": "python3"
  },
  "language_info": {
   "name": "python",
   "version": "3.13.0"
  }
 },
 "nbformat": 4,
 "nbformat_minor": 2
}
