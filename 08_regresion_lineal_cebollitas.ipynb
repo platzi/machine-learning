{
 "cells": [
  {
   "cell_type": "code",
   "execution_count": 1,
   "metadata": {},
   "outputs": [],
   "source": [
    "import pandas as pd\n",
    "from sklearn.model_selection import train_test_split\n",
    "\n",
    "# Cargar dataset\n",
    "df_partidos = pd.read_csv(\"partidos_cebollitas.csv\")\n",
    "\n",
    "# Crear variable objetivo\n",
    "df_partidos['diferencia_goles'] = df_partidos['goles_local'] - df_partidos['goles_visitante']\n",
    "\n",
    "# Variables predictoras\n",
    "X = df_partidos[['posesion_local (%)', 'tiros_arco_local']]\n",
    "y = df_partidos['diferencia_goles']\n",
    "\n",
    "# División estándar: 80% entrenamiento / 20% prueba\n",
    "X_train, X_test, y_train, y_test = train_test_split(X, y, test_size=0.2, random_state=42)\n"
   ]
  },
  {
   "cell_type": "code",
   "execution_count": 2,
   "metadata": {},
   "outputs": [
    {
     "name": "stdout",
     "output_type": "stream",
     "text": [
      "¡Modelo entrenado exitosamente!\n"
     ]
    }
   ],
   "source": [
    "from sklearn.linear_model import LinearRegression\n",
    "\n",
    "# Instanciar y entrenar modelo\n",
    "modelo_rl = LinearRegression()\n",
    "modelo_rl.fit(X_train, y_train)\n",
    "\n",
    "print(\"¡Modelo entrenado exitosamente!\")\n"
   ]
  },
  {
   "cell_type": "code",
   "execution_count": 3,
   "metadata": {},
   "outputs": [
    {
     "name": "stdout",
     "output_type": "stream",
     "text": [
      "Intercepto (β₀): -2.525719257232977\n",
      "Coeficientes (β): [ 0.05596278 -0.05125811]\n",
      "Si aumentamos 1 unidad en 'posesion_local (%)', la diferencia de goles cambia en promedio 0.06\n",
      "Si aumentamos 1 unidad en 'tiros_arco_local', la diferencia de goles cambia en promedio -0.05\n"
     ]
    }
   ],
   "source": [
    "# Mostrar coeficientes\n",
    "print(f\"Intercepto (β₀): {modelo_rl.intercept_}\")\n",
    "print(f\"Coeficientes (β): {modelo_rl.coef_}\")\n",
    "\n",
    "# Interpretación amigable\n",
    "for idx, col_name in enumerate(X.columns):\n",
    "    print(f\"Si aumentamos 1 unidad en '{col_name}', la diferencia de goles cambia en promedio {modelo_rl.coef_[idx]:.2f}\")\n"
   ]
  },
  {
   "cell_type": "code",
   "execution_count": 4,
   "metadata": {},
   "outputs": [
    {
     "data": {
      "text/html": [
       "<div>\n",
       "<style scoped>\n",
       "    .dataframe tbody tr th:only-of-type {\n",
       "        vertical-align: middle;\n",
       "    }\n",
       "\n",
       "    .dataframe tbody tr th {\n",
       "        vertical-align: top;\n",
       "    }\n",
       "\n",
       "    .dataframe thead th {\n",
       "        text-align: right;\n",
       "    }\n",
       "</style>\n",
       "<table border=\"1\" class=\"dataframe\">\n",
       "  <thead>\n",
       "    <tr style=\"text-align: right;\">\n",
       "      <th></th>\n",
       "      <th>posesion_local (%)</th>\n",
       "      <th>tiros_arco_local</th>\n",
       "      <th>Diferencia_Goles_Real</th>\n",
       "      <th>Diferencia_Goles_Predicha</th>\n",
       "    </tr>\n",
       "  </thead>\n",
       "  <tbody>\n",
       "    <tr>\n",
       "      <th>83</th>\n",
       "      <td>47</td>\n",
       "      <td>3</td>\n",
       "      <td>3</td>\n",
       "      <td>-0.05</td>\n",
       "    </tr>\n",
       "    <tr>\n",
       "      <th>53</th>\n",
       "      <td>60</td>\n",
       "      <td>3</td>\n",
       "      <td>3</td>\n",
       "      <td>0.68</td>\n",
       "    </tr>\n",
       "    <tr>\n",
       "      <th>70</th>\n",
       "      <td>50</td>\n",
       "      <td>5</td>\n",
       "      <td>0</td>\n",
       "      <td>0.02</td>\n",
       "    </tr>\n",
       "    <tr>\n",
       "      <th>45</th>\n",
       "      <td>57</td>\n",
       "      <td>7</td>\n",
       "      <td>3</td>\n",
       "      <td>0.31</td>\n",
       "    </tr>\n",
       "    <tr>\n",
       "      <th>44</th>\n",
       "      <td>45</td>\n",
       "      <td>5</td>\n",
       "      <td>5</td>\n",
       "      <td>-0.26</td>\n",
       "    </tr>\n",
       "    <tr>\n",
       "      <th>39</th>\n",
       "      <td>60</td>\n",
       "      <td>7</td>\n",
       "      <td>3</td>\n",
       "      <td>0.47</td>\n",
       "    </tr>\n",
       "    <tr>\n",
       "      <th>22</th>\n",
       "      <td>45</td>\n",
       "      <td>11</td>\n",
       "      <td>0</td>\n",
       "      <td>-0.57</td>\n",
       "    </tr>\n",
       "    <tr>\n",
       "      <th>80</th>\n",
       "      <td>49</td>\n",
       "      <td>5</td>\n",
       "      <td>1</td>\n",
       "      <td>-0.04</td>\n",
       "    </tr>\n",
       "    <tr>\n",
       "      <th>10</th>\n",
       "      <td>48</td>\n",
       "      <td>5</td>\n",
       "      <td>-2</td>\n",
       "      <td>-0.10</td>\n",
       "    </tr>\n",
       "    <tr>\n",
       "      <th>0</th>\n",
       "      <td>54</td>\n",
       "      <td>12</td>\n",
       "      <td>2</td>\n",
       "      <td>-0.12</td>\n",
       "    </tr>\n",
       "  </tbody>\n",
       "</table>\n",
       "</div>"
      ],
      "text/plain": [
       "    posesion_local (%)  tiros_arco_local  Diferencia_Goles_Real  \\\n",
       "83                  47                 3                      3   \n",
       "53                  60                 3                      3   \n",
       "70                  50                 5                      0   \n",
       "45                  57                 7                      3   \n",
       "44                  45                 5                      5   \n",
       "39                  60                 7                      3   \n",
       "22                  45                11                      0   \n",
       "80                  49                 5                      1   \n",
       "10                  48                 5                     -2   \n",
       "0                   54                12                      2   \n",
       "\n",
       "    Diferencia_Goles_Predicha  \n",
       "83                      -0.05  \n",
       "53                       0.68  \n",
       "70                       0.02  \n",
       "45                       0.31  \n",
       "44                      -0.26  \n",
       "39                       0.47  \n",
       "22                      -0.57  \n",
       "80                      -0.04  \n",
       "10                      -0.10  \n",
       "0                       -0.12  "
      ]
     },
     "execution_count": 4,
     "metadata": {},
     "output_type": "execute_result"
    }
   ],
   "source": [
    "# Hacer predicciones\n",
    "y_pred = modelo_rl.predict(X_test)\n",
    "\n",
    "# Comparar predicciones vs valores reales\n",
    "df_resultados = X_test.copy()\n",
    "df_resultados['Diferencia_Goles_Real'] = y_test\n",
    "df_resultados['Diferencia_Goles_Predicha'] = y_pred.round(2)\n",
    "\n",
    "df_resultados.head(10)\n"
   ]
  },
  {
   "cell_type": "code",
   "execution_count": 5,
   "metadata": {},
   "outputs": [
    {
     "data": {
      "image/png": "[encoded data removed]",
      "text/plain": [
       "<Figure size 1000x600 with 1 Axes>"
      ]
     },
     "metadata": {},
     "output_type": "display_data"
    }
   ],
   "source": [
    "import matplotlib.pyplot as plt\n",
    "import seaborn as sns\n",
    "\n",
    "# Crear gráfico de dispersión\n",
    "plt.figure(figsize=(10,6))\n",
    "sns.scatterplot(x=y_test, y=y_pred)\n",
    "plt.xlabel('Diferencia de goles Real')\n",
    "plt.ylabel('Diferencia de goles Predicha')\n",
    "plt.title('Predicciones vs Resultados Reales')\n",
    "plt.axline((0,0), slope=1, color='red', linestyle='--')  # Línea ideal\n",
    "plt.show()\n"
   ]
  },
  {
   "cell_type": "code",
   "execution_count": 6,
   "metadata": {},
   "outputs": [
    {
     "data": {
      "application/vnd.jupyter.widget-view+json": {
       "model_id": "e670e099110545859d3eb8124cac84d8",
       "version_major": 2,
       "version_minor": 0
      },
      "text/plain": [
       "interactive(children=(FloatSlider(value=30.0, description='Posesión (%)', max=70.0, min=30.0, step=1.0), IntSl…"
      ]
     },
     "execution_count": 6,
     "metadata": {},
     "output_type": "execute_result"
    }
   ],
   "source": [
    "import ipywidgets as widgets\n",
    "\n",
    "# Widgets de entrada\n",
    "posesion_input = widgets.FloatSlider(min=30, max=70, step=1, description='Posesión (%)')\n",
    "tiros_input = widgets.IntSlider(min=1, max=15, step=1, description='Tiros al Arco')\n",
    "\n",
    "# Función de predicción\n",
    "def predecir_goles(posesion, tiros):\n",
    "    # Crear DataFrame con nombres de columnas esperados por el modelo\n",
    "    entrada = pd.DataFrame([[posesion, tiros]], columns=['posesion_local (%)', 'tiros_arco_local'])\n",
    "    pred = modelo_rl.predict(entrada)[0]\n",
    "    print(f\"Diferencia de goles predicha: {pred:.2f}\")\n",
    "\n",
    "\n",
    "# Mostrar widget interactivo\n",
    "widgets.interactive(predecir_goles, posesion=posesion_input, tiros=tiros_input)\n"
   ]
  }
 ],
 "metadata": {
  "kernelspec": {
   "display_name": "venv",
   "language": "python",
   "name": "python3"
  },
  "language_info": {
   "codemirror_mode": {
    "name": "ipython",
    "version": 3
   },
   "file_extension": ".py",
   "mimetype": "text/x-python",
   "name": "python",
   "nbconvert_exporter": "python",
   "pygments_lexer": "ipython3",
   "version": "3.13.0"
  }
 },
 "nbformat": 4,
 "nbformat_minor": 2
}
